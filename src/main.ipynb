{
 "cells": [
  {
   "cell_type": "markdown",
   "id": "fa048b0e",
   "metadata": {},
   "source": [
    "### Imports"
   ]
  },
  {
   "cell_type": "code",
   "execution_count": 1,
   "id": "66a9bc52",
   "metadata": {},
   "outputs": [],
   "source": [
    "from torchvision import transforms\n",
    "from torch.utils.data import DataLoader, Dataset\n",
    "import os\n",
    "from PIL import Image\n",
    "import torch.nn as nn\n",
    "import torch.nn.functional as F\n",
    "import numpy as np"
   ]
  },
  {
   "cell_type": "markdown",
   "id": "26cbd30d",
   "metadata": {},
   "source": [
    "### Load constants"
   ]
  },
  {
   "cell_type": "code",
   "execution_count": 2,
   "id": "f52bc9be",
   "metadata": {},
   "outputs": [],
   "source": [
    "from const import *"
   ]
  },
  {
   "cell_type": "markdown",
   "id": "a64a3019",
   "metadata": {},
   "source": [
    "## Train data augmentation"
   ]
  },
  {
   "cell_type": "code",
   "execution_count": 3,
   "id": "c394b0bd",
   "metadata": {},
   "outputs": [],
   "source": [
    "TRAIN_TRANSFORM = transforms.Compose([\n",
    "    transforms.Resize((IMAGE_SIZE, IMAGE_SIZE)),\n",
    "    transforms.ToTensor(),\n",
    "    transforms.Normalize(mean=[0.5, 0.5, 0.5], std=[0.5, 0.5, 0.5]) if IMAGE_TYPE['no_channels'] == 3 else transforms.Normalize(mean=[0.5], std=[0.5])\n",
    "])"
   ]
  },
  {
   "cell_type": "code",
   "execution_count": 4,
   "id": "d2c637d3",
   "metadata": {},
   "outputs": [],
   "source": [
    "class WaldoImageDataset(Dataset):\n",
    "    def __init__(self, root_dir, transform=None):\n",
    "        self.root_dir = root_dir\n",
    "        self.transform = transform\n",
    "        self.image_paths = [os.path.join(root_dir, fname) for fname in os.listdir(root_dir) if fname.endswith(IMAGE_EXTENSION)]\n",
    "\n",
    "    def __len__(self):\n",
    "        return len(self.image_paths)\n",
    "\n",
    "    def __getitem__(self, idx):\n",
    "        img_path = self.image_paths[idx]\n",
    "        match IMAGE_TYPE['no_channels']:\n",
    "            case 1:\n",
    "                image = Image.open(img_path).convert(\"L\")  # Grayscale\n",
    "            case 3:\n",
    "                image = Image.open(img_path).convert(\"RGB\")  # RGB\n",
    "            case _:\n",
    "                raise ValueError(\"Unsupported number of channels\")\n",
    "        \n",
    "        if self.transform:\n",
    "            image = self.transform(image)\n",
    "        \n",
    "        return image, image\n",
    "\n",
    "def get_dataloaders(root_dir, transform, batch_size):\n",
    "    dataset = WaldoImageDataset(root_dir=root_dir, transform=transform)\n",
    "    return DataLoader(dataset, batch_size=batch_size, shuffle=True)"
   ]
  },
  {
   "cell_type": "code",
   "execution_count": null,
   "id": "f52742a0",
   "metadata": {},
   "outputs": [],
   "source": [
    "from models import (\n",
    "    ThreePoolLayerConvAutoencoder,\n",
    "    ShallowConvAutoencoder,\n",
    "    UNetAutoencoder\n",
    ")\n",
    "\n",
    "Model = UNetAutoencoder"
   ]
  },
  {
   "cell_type": "code",
   "execution_count": 6,
   "id": "18425ebf",
   "metadata": {},
   "outputs": [],
   "source": [
    "BATCH_SIZE: int = 64\n",
    "LEARNING_RATE: float = 1e-3\n",
    "NUM_EPOCHS: int = 100\n",
    "NOISE_FACTOR: float = 0.1\n",
    "WEIGHT_DECAY: float = 5e-5"
   ]
  },
  {
   "cell_type": "code",
   "execution_count": 7,
   "id": "f3a3865a",
   "metadata": {},
   "outputs": [],
   "source": [
    "def add_gaussian_noise(images, noise_factor):\n",
    "    noisy_images = images + noise_factor * torch.randn_like(images)\n",
    "    noisy_images = torch.clamp(noisy_images, -1., 1.)\n",
    "    return noisy_images"
   ]
  },
  {
   "cell_type": "code",
   "execution_count": 8,
   "id": "6e55e294",
   "metadata": {},
   "outputs": [],
   "source": [
    "def train(model, data_root, transform, epochs, device):\n",
    "    dataset = WaldoImageDataset(root_dir=data_root, transform=transform)\n",
    "    dataloader = DataLoader(dataset, batch_size=BATCH_SIZE, shuffle=True)\n",
    "\n",
    "    criterion = nn.MSELoss()\n",
    "    optimizer = torch.optim.Adam(model.parameters(), lr=LEARNING_RATE, weight_decay=WEIGHT_DECAY)\n",
    "    model.to(device)\n",
    "\n",
    "    for epoch in range(epochs):\n",
    "        for images in dataloader:\n",
    "            if isinstance(images, (list, tuple)):\n",
    "                images = images[0]\n",
    "            clean_images = images.to(device)\n",
    "\n",
    "            noisy_images = add_gaussian_noise(clean_images.clone(), NOISE_FACTOR)\n",
    "            optimizer.zero_grad()\n",
    "            outputs = model(noisy_images)\n",
    "            loss = criterion(outputs, clean_images)\n",
    "            loss.backward()\n",
    "            optimizer.step()\n",
    "\n",
    "        print(f\"Epoch [{epoch + 1}/{epochs}], Loss: {loss.item():.4f}\")\n",
    "\n",
    "    print(\"Training complete.\")\n",
    "    return model"
   ]
  },
  {
   "cell_type": "code",
   "execution_count": 9,
   "id": "7a5cc9cb",
   "metadata": {},
   "outputs": [
    {
     "name": "stdout",
     "output_type": "stream",
     "text": [
      "Epoch [1/100], Loss: 0.4309\n",
      "Epoch [2/100], Loss: 0.3928\n",
      "Epoch [3/100], Loss: 0.4247\n",
      "Epoch [4/100], Loss: 0.3455\n",
      "Epoch [5/100], Loss: 0.3321\n",
      "Epoch [6/100], Loss: 0.3163\n",
      "Epoch [7/100], Loss: 0.2980\n",
      "Epoch [8/100], Loss: 0.3062\n",
      "Epoch [9/100], Loss: 0.2693\n",
      "Epoch [10/100], Loss: 0.2651\n",
      "Epoch [11/100], Loss: 0.2727\n",
      "Epoch [12/100], Loss: 0.2708\n",
      "Epoch [13/100], Loss: 0.2809\n",
      "Epoch [14/100], Loss: 0.2763\n",
      "Epoch [15/100], Loss: 0.2647\n",
      "Epoch [16/100], Loss: 0.2741\n",
      "Epoch [17/100], Loss: 0.2693\n",
      "Epoch [18/100], Loss: 0.2603\n",
      "Epoch [19/100], Loss: 0.2768\n",
      "Epoch [20/100], Loss: 0.2440\n",
      "Epoch [21/100], Loss: 0.2687\n",
      "Epoch [22/100], Loss: 0.2487\n",
      "Epoch [23/100], Loss: 0.2404\n",
      "Epoch [24/100], Loss: 0.2388\n",
      "Epoch [25/100], Loss: 0.2366\n",
      "Epoch [26/100], Loss: 0.2509\n",
      "Epoch [27/100], Loss: 0.2160\n",
      "Epoch [28/100], Loss: 0.2353\n",
      "Epoch [29/100], Loss: 0.2229\n",
      "Epoch [30/100], Loss: 0.2611\n",
      "Epoch [31/100], Loss: 0.2326\n",
      "Epoch [32/100], Loss: 0.2533\n",
      "Epoch [33/100], Loss: 0.2146\n",
      "Epoch [34/100], Loss: 0.2423\n",
      "Epoch [35/100], Loss: 0.2213\n",
      "Epoch [36/100], Loss: 0.2156\n",
      "Epoch [37/100], Loss: 0.2521\n",
      "Epoch [38/100], Loss: 0.2319\n",
      "Epoch [39/100], Loss: 0.2476\n",
      "Epoch [40/100], Loss: 0.2230\n",
      "Epoch [41/100], Loss: 0.2540\n",
      "Epoch [42/100], Loss: 0.2287\n",
      "Epoch [43/100], Loss: 0.2144\n",
      "Epoch [44/100], Loss: 0.2232\n",
      "Epoch [45/100], Loss: 0.2394\n",
      "Epoch [46/100], Loss: 0.2435\n",
      "Epoch [47/100], Loss: 0.2436\n",
      "Epoch [48/100], Loss: 0.2524\n",
      "Epoch [49/100], Loss: 0.2232\n",
      "Epoch [50/100], Loss: 0.2213\n",
      "Epoch [51/100], Loss: 0.2486\n",
      "Epoch [52/100], Loss: 0.2197\n",
      "Epoch [53/100], Loss: 0.2498\n",
      "Epoch [54/100], Loss: 0.2331\n",
      "Epoch [55/100], Loss: 0.2225\n",
      "Epoch [56/100], Loss: 0.2258\n",
      "Epoch [57/100], Loss: 0.2412\n",
      "Epoch [58/100], Loss: 0.2327\n",
      "Epoch [59/100], Loss: 0.2290\n",
      "Epoch [60/100], Loss: 0.2205\n",
      "Epoch [61/100], Loss: 0.2329\n",
      "Epoch [62/100], Loss: 0.2229\n",
      "Epoch [63/100], Loss: 0.2239\n",
      "Epoch [64/100], Loss: 0.2049\n",
      "Epoch [65/100], Loss: 0.2241\n",
      "Epoch [66/100], Loss: 0.2117\n",
      "Epoch [67/100], Loss: 0.2074\n",
      "Epoch [68/100], Loss: 0.2360\n",
      "Epoch [69/100], Loss: 0.2051\n",
      "Epoch [70/100], Loss: 0.2137\n",
      "Epoch [71/100], Loss: 0.2377\n",
      "Epoch [72/100], Loss: 0.2082\n",
      "Epoch [73/100], Loss: 0.2266\n",
      "Epoch [74/100], Loss: 0.2169\n",
      "Epoch [75/100], Loss: 0.2285\n",
      "Epoch [76/100], Loss: 0.2032\n",
      "Epoch [77/100], Loss: 0.2122\n",
      "Epoch [78/100], Loss: 0.2182\n",
      "Epoch [79/100], Loss: 0.2057\n",
      "Epoch [80/100], Loss: 0.2283\n",
      "Epoch [81/100], Loss: 0.2048\n",
      "Epoch [82/100], Loss: 0.2017\n",
      "Epoch [83/100], Loss: 0.2105\n",
      "Epoch [84/100], Loss: 0.2025\n",
      "Epoch [85/100], Loss: 0.1791\n",
      "Epoch [86/100], Loss: 0.2052\n",
      "Epoch [87/100], Loss: 0.1825\n",
      "Epoch [88/100], Loss: 0.1905\n",
      "Epoch [89/100], Loss: 0.1765\n",
      "Epoch [90/100], Loss: 0.1879\n",
      "Epoch [91/100], Loss: 0.1925\n",
      "Epoch [92/100], Loss: 0.1919\n",
      "Epoch [93/100], Loss: 0.1777\n",
      "Epoch [94/100], Loss: 0.1794\n",
      "Epoch [95/100], Loss: 0.1855\n",
      "Epoch [96/100], Loss: 0.1744\n",
      "Epoch [97/100], Loss: 0.1770\n",
      "Epoch [98/100], Loss: 0.1688\n",
      "Epoch [99/100], Loss: 0.1750\n",
      "Epoch [100/100], Loss: 0.1970\n",
      "Training complete.\n"
     ]
    }
   ],
   "source": [
    "trained_model = train(Model(latent_dim=IMAGE_SIZE//4, image_size=IMAGE_SIZE, channels=IMAGE_TYPE['no_channels']), \n",
    "                      TRAIN_DATA_PATH, TRAIN_TRANSFORM, NUM_EPOCHS, DEVICE)"
   ]
  },
  {
   "cell_type": "markdown",
   "id": "f188d4b5",
   "metadata": {},
   "source": [
    "## Test data preparations"
   ]
  },
  {
   "cell_type": "code",
   "execution_count": 10,
   "id": "0b077225",
   "metadata": {},
   "outputs": [],
   "source": [
    "TEST_TRANSFORM = transforms.Compose([\n",
    "    transforms.Resize((IMAGE_SIZE, IMAGE_SIZE)),\n",
    "    transforms.ToTensor(),\n",
    "    transforms.Normalize(mean=[0.5, 0.5, 0.5], std=[0.5, 0.5, 0.5]) if IMAGE_TYPE['no_channels'] == 3 else transforms.Normalize(mean=[0.5], std=[0.5])\n",
    "])"
   ]
  },
  {
   "cell_type": "code",
   "execution_count": 11,
   "id": "06cca26c",
   "metadata": {},
   "outputs": [],
   "source": [
    "def get_test_dataloaders(normal_path, anomaly_path, transform, batch_size):\n",
    "    normal_dataset = WaldoImageDataset(root_dir=normal_path, transform=transform)\n",
    "    normal_loader = DataLoader(normal_dataset, batch_size=batch_size, shuffle=False)\n",
    "    \n",
    "    anomaly_dataset = WaldoImageDataset(root_dir=anomaly_path, transform=transform)\n",
    "    anomaly_loader = DataLoader(anomaly_dataset, batch_size=batch_size, shuffle=False)\n",
    "    \n",
    "    return normal_loader, anomaly_loader"
   ]
  },
  {
   "cell_type": "code",
   "execution_count": 12,
   "id": "0232c77e",
   "metadata": {},
   "outputs": [],
   "source": [
    "def calculate_reconstruction_errors(model, dataloader, device):\n",
    "    model.eval()\n",
    "    all_errors = []\n",
    "    \n",
    "    with torch.no_grad():\n",
    "        for images, _ in dataloader:\n",
    "            images = images.to(device)\n",
    "            \n",
    "            reconstructed = model(images)\n",
    "            mse_loss = F.mse_loss(reconstructed, images, reduction='none')\n",
    "            reconstruction_error = mse_loss.sum(dim=[1, 2, 3]) \n",
    "            \n",
    "            all_errors.extend(reconstruction_error.cpu().numpy())\n",
    "            \n",
    "    return np.array(all_errors)"
   ]
  },
  {
   "cell_type": "code",
   "execution_count": 13,
   "id": "1ac606be",
   "metadata": {},
   "outputs": [
    {
     "name": "stdout",
     "output_type": "stream",
     "text": [
      "Normal Errors Stats: Mean=7858.3403, Std=2381.2952, Max=13959.1309\n",
      "Anomaly Errors Stats: Mean=14602.7871, Std=3495.2969, Min=8779.3154\n"
     ]
    },
    {
     "data": {
      "image/png": "[encoded data removed]",
      "text/plain": [
       "<Figure size 1000x600 with 1 Axes>"
      ]
     },
     "metadata": {},
     "output_type": "display_data"
    },
    {
     "name": "stdout",
     "output_type": "stream",
     "text": [
      "\n",
      "--- Model Performance (Using Logistic Regression Threshold) ---\n",
      "AUC-ROC Score: 0.9366 (Closer to 1.0 is better)\n",
      "F1 Score: 0.2136\n",
      "\n",
      "Confusion Matrix:\n",
      "[[1160  157]\n",
      " [   5   22]]\n",
      "True Positives (Correct Waldo patches): 22\n",
      "False Positives (NotWaldo flagged as Waldo): 157\n",
      "False Negatives (Waldo missed): 5\n",
      "True Negatives (Correct NotWaldo patches): 1160\n"
     ]
    }
   ],
   "source": [
    "from scipy.stats import scoreatpercentile\n",
    "from sklearn.metrics import roc_auc_score, f1_score, confusion_matrix\n",
    "import matplotlib.pyplot as plt\n",
    "from sklearn.linear_model import LogisticRegression\n",
    "from sklearn.model_selection import train_test_split\n",
    "from sklearn.preprocessing import StandardScaler\n",
    "\n",
    "def evaluate_model(model, normal_loader, anomaly_loader, device):\n",
    "    # Calculate errors for both classes\n",
    "    normal_errors = calculate_reconstruction_errors(model, normal_loader, device)\n",
    "    print(f\"Normal Errors Stats: Mean={np.mean(normal_errors):.4f}, Std={np.std(normal_errors):.4f}, Max={np.max(normal_errors):.4f}\")\n",
    "    THRESHOLD = scoreatpercentile(normal_errors, 100)\n",
    "    anomaly_errors = calculate_reconstruction_errors(model, anomaly_loader, device)\n",
    "    print(f\"Anomaly Errors Stats: Mean={np.mean(anomaly_errors):.4f}, Std={np.std(anomaly_errors):.4f}, Min={np.min(anomaly_errors):.4f}\")\n",
    "    \n",
    "    # Concatenate all errors and create true labels\n",
    "    all_errors = np.concatenate([normal_errors, anomaly_errors])\n",
    "    # True labels: 0 for normal, 1 for anomaly\n",
    "    true_labels = np.concatenate([np.zeros(len(normal_errors)), np.ones(len(anomaly_errors))])\n",
    "    \n",
    "    X = all_errors.reshape(-1, 1)\n",
    "    y = true_labels\n",
    "\n",
    "    # Scale the errors (recommended for Logistic Regression)\n",
    "    scaler = StandardScaler()\n",
    "    X_scaled = scaler.fit_transform(X)\n",
    "\n",
    "    # Train the model (using the full test set as the final evaluation is based on it)\n",
    "    log_reg = LogisticRegression(class_weight='balanced', solver='liblinear')\n",
    "    log_reg.fit(X_scaled, y)\n",
    "    \n",
    "    # Predict using the Logistic Regression model\n",
    "    predicted_labels = log_reg.predict(X_scaled)\n",
    "\n",
    "    # --- 3. PLOT ERROR DISTRIBUTIONS ---\n",
    "    plt.figure(figsize=(10, 6))\n",
    "    plt.hist(normal_errors, bins=50, alpha=0.6, label='Normal (NotWaldo) Errors', density=True)\n",
    "    plt.hist(anomaly_errors, bins=50, alpha=0.6, label='Anomaly (Waldo) Errors', density=True)\n",
    "    plt.axvline(x=THRESHOLD, color='r', linestyle='--', label=f'Stat. Threshold ({THRESHOLD:.2f})')\n",
    "    plt.title('Reconstruction Error Distribution')\n",
    "    plt.xlabel('Total Reconstruction Error')\n",
    "    plt.ylabel('Density')\n",
    "    plt.legend()\n",
    "    plt.show()\n",
    "\n",
    "    # --- 4. METRICS ---\n",
    "    \n",
    "    # 1. AUC-ROC Score\n",
    "    auc_roc = roc_auc_score(true_labels, all_errors)\n",
    "    \n",
    "    # 2. Confusion Matrix using Logistic Regression predictions\n",
    "    cm = confusion_matrix(true_labels, predicted_labels)\n",
    "    tn, fp, fn, tp = cm.ravel()\n",
    "    \n",
    "    # 3. F1 Score\n",
    "    f1 = f1_score(true_labels, predicted_labels)\n",
    "    \n",
    "    print(\"\\n--- Model Performance (Using Logistic Regression Threshold) ---\")\n",
    "    print(f\"AUC-ROC Score: {auc_roc:.4f} (Closer to 1.0 is better)\")\n",
    "    print(f\"F1 Score: {f1:.4f}\")\n",
    "    print(f\"\\nConfusion Matrix:\\n{cm}\")\n",
    "    print(f\"True Positives (Correct Waldo patches): {tp}\")\n",
    "    print(f\"False Positives (NotWaldo flagged as Waldo): {fp}\")\n",
    "    print(f\"False Negatives (Waldo missed): {fn}\")\n",
    "    print(f\"True Negatives (Correct NotWaldo patches): {tn}\")\n",
    "\n",
    "normal_test_loader, anomaly_test_loader = get_test_dataloaders(\n",
    "    TRAIN_DATA_PATH, \n",
    "    TEST_DATA_PATH, \n",
    "    TEST_TRANSFORM, \n",
    "    BATCH_SIZE\n",
    ")\n",
    "\n",
    "\n",
    "evaluate_model(trained_model, normal_test_loader, anomaly_test_loader, DEVICE)"
   ]
  }
 ],
 "metadata": {
  "kernelspec": {
   "display_name": "venv",
   "language": "python",
   "name": "python3"
  },
  "language_info": {
   "codemirror_mode": {
    "name": "ipython",
    "version": 3
   },
   "file_extension": ".py",
   "mimetype": "text/x-python",
   "name": "python",
   "nbconvert_exporter": "python",
   "pygments_lexer": "ipython3",
   "version": "3.13.7"
  }
 },
 "nbformat": 4,
 "nbformat_minor": 5
}
