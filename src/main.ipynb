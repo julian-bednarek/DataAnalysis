{
 "cells": [
  {
   "cell_type": "markdown",
   "id": "fa048b0e",
   "metadata": {},
   "source": [
    "### Imports"
   ]
  },
  {
   "cell_type": "code",
   "execution_count": null,
   "id": "66a9bc52",
   "metadata": {},
   "outputs": [],
   "source": [
    "from torchvision import transforms\n",
    "from torch.utils.data import DataLoader, Dataset\n",
    "import os\n",
    "from PIL import Image"
   ]
  },
  {
   "cell_type": "markdown",
   "id": "26cbd30d",
   "metadata": {},
   "source": [
    "### Load constants"
   ]
  },
  {
   "cell_type": "code",
   "execution_count": null,
   "id": "f52bc9be",
   "metadata": {},
   "outputs": [],
   "source": [
    "from const import *"
   ]
  },
  {
   "cell_type": "markdown",
   "id": "a64a3019",
   "metadata": {},
   "source": [
    "## Train data augmentation"
   ]
  },
  {
   "cell_type": "code",
   "execution_count": null,
   "id": "c394b0bd",
   "metadata": {},
   "outputs": [],
   "source": [
    "TRAIN_TRANSFORM = transforms.Compose([\n",
    "    transforms.Resize((IMAGE_SIZE, IMAGE_SIZE)),\n",
    "    transforms.RandomHorizontalFlip(),\n",
    "    transforms.RandomRotation(3),\n",
    "    transforms.RandomAffine(degrees=0, translate=(0.05, 0.05), scale=(0.95, 1.05)),\n",
    "    transforms.ColorJitter(brightness=0.05, contrast=0.05, saturation=0.05, hue=0.05),\n",
    "    transforms.ToTensor(),\n",
    "    transforms.Normalize(mean=[0.5, 0.5, 0.5], std=[0.5, 0.5, 0.5])\n",
    "])"
   ]
  },
  {
   "cell_type": "code",
   "execution_count": null,
   "id": "d2c637d3",
   "metadata": {},
   "outputs": [],
   "source": [
    "class WaldoImageDataset(Dataset):\n",
    "    def __init__(self, root_dir, transform=None):\n",
    "        self.root_dir = root_dir\n",
    "        self.transform = transform\n",
    "        self.image_paths = [os.path.join(root_dir, fname) for fname in os.listdir(root_dir) if fname.endswith((IMAGE_EXTENSION))]\n",
    "\n",
    "    def __len__(self):\n",
    "        return len(self.image_paths)\n",
    "\n",
    "    def __getitem__(self, idx):\n",
    "        img_path = self.image_paths[idx]\n",
    "        image = Image.open(img_path).convert('RGB')\n",
    "        \n",
    "        if self.transform:\n",
    "            image = self.transform(image)\n",
    "        \n",
    "        return image, image\n",
    "\n",
    "def get_dataloaders(root_dir, transform, batch_size):\n",
    "    dataset = WaldoImageDataset(root_dir=root_dir, transform=transform)\n",
    "    return DataLoader(dataset, batch_size=batch_size, shuffle=True)"
   ]
  }
 ],
 "metadata": {
  "kernelspec": {
   "display_name": "venv",
   "language": "python",
   "name": "python3"
  },
  "language_info": {
   "name": "python",
   "version": "3.13.7"
  }
 },
 "nbformat": 4,
 "nbformat_minor": 5
}
