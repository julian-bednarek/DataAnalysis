{
 "cells": [
  {
   "cell_type": "markdown",
   "id": "fa048b0e",
   "metadata": {},
   "source": [
    "### Imports"
   ]
  },
  {
   "cell_type": "code",
   "execution_count": 62,
   "id": "66a9bc52",
   "metadata": {},
   "outputs": [],
   "source": [
    "from torchvision import transforms\n",
    "from torch.utils.data import DataLoader, Dataset\n",
    "import os\n",
    "from PIL import Image\n",
    "import torch.nn as nn\n",
    "import torch.nn.functional as F\n",
    "import numpy as np"
   ]
  },
  {
   "cell_type": "markdown",
   "id": "26cbd30d",
   "metadata": {},
   "source": [
    "### Load constants"
   ]
  },
  {
   "cell_type": "code",
   "execution_count": 63,
   "id": "f52bc9be",
   "metadata": {},
   "outputs": [],
   "source": [
    "from const import *"
   ]
  },
  {
   "cell_type": "markdown",
   "id": "a64a3019",
   "metadata": {},
   "source": [
    "## Train data augmentation"
   ]
  },
  {
   "cell_type": "code",
   "execution_count": 64,
   "id": "c394b0bd",
   "metadata": {},
   "outputs": [],
   "source": [
    "TRAIN_TRANSFORM = transforms.Compose([\n",
    "    transforms.Resize((IMAGE_SIZE, IMAGE_SIZE)),\n",
    "    transforms.ToTensor(),\n",
    "    transforms.Normalize(mean=[0.5, 0.5, 0.5], std=[0.5, 0.5, 0.5]) if IMAGE_TYPE['no_channels'] == 3 else transforms.Normalize(mean=[0.5], std=[0.5])\n",
    "])"
   ]
  },
  {
   "cell_type": "code",
   "execution_count": 65,
   "id": "d2c637d3",
   "metadata": {},
   "outputs": [],
   "source": [
    "class WaldoImageDataset(Dataset):\n",
    "    def __init__(self, root_dir, transform=None):\n",
    "        self.root_dir = root_dir\n",
    "        self.transform = transform\n",
    "        self.image_paths = [os.path.join(root_dir, fname) for fname in os.listdir(root_dir) if fname.endswith(IMAGE_EXTENSION)]\n",
    "\n",
    "    def __len__(self):\n",
    "        return len(self.image_paths)\n",
    "\n",
    "    def __getitem__(self, idx):\n",
    "        img_path = self.image_paths[idx]\n",
    "        match IMAGE_TYPE['no_channels']:\n",
    "            case 1:\n",
    "                image = Image.open(img_path).convert(\"L\")  # Grayscale\n",
    "            case 3:\n",
    "                image = Image.open(img_path).convert(\"RGB\")  # RGB\n",
    "            case _:\n",
    "                raise ValueError(\"Unsupported number of channels\")\n",
    "        \n",
    "        if self.transform:\n",
    "            image = self.transform(image)\n",
    "        \n",
    "        return image, image\n",
    "\n",
    "def get_dataloaders(root_dir, transform, batch_size):\n",
    "    dataset = WaldoImageDataset(root_dir=root_dir, transform=transform)\n",
    "    return DataLoader(dataset, batch_size=batch_size, shuffle=True)"
   ]
  },
  {
   "cell_type": "code",
   "execution_count": 66,
   "id": "f52742a0",
   "metadata": {},
   "outputs": [],
   "source": [
    "class ConvAutoencoder(nn.Module):\n",
    "    def __init__(self, latent_dim: int):\n",
    "        super().__init__()\n",
    "        self.channels = IMAGE_TYPE['no_channels']\n",
    "        self.latent_dim = latent_dim\n",
    "        self.flat_size = 64 * 8 * 8\n",
    "\n",
    "        self.encoder = nn.Sequential(\n",
    "            nn.Conv2d(self.channels, 16, kernel_size=3, padding=1),\n",
    "            nn.ReLU(True),\n",
    "            nn.MaxPool2d(2, 2),\n",
    "            nn.Conv2d(16, 32, kernel_size=3, padding=1),\n",
    "            nn.ReLU(True),\n",
    "            nn.MaxPool2d(2, 2),\n",
    "            nn.Conv2d(32, 64, kernel_size=3, padding=1),\n",
    "            nn.ReLU(True),\n",
    "            nn.MaxPool2d(2, 2),\n",
    "        )\n",
    "\n",
    "        self.decoder = nn.Sequential(\n",
    "            nn.ConvTranspose2d(64, 32, kernel_size=2, stride=2),\n",
    "            nn.ReLU(True),\n",
    "            nn.ConvTranspose2d(32, 16, kernel_size=2, stride=2),\n",
    "            nn.ReLU(True),\n",
    "            nn.ConvTranspose2d(16, self.channels, kernel_size=2, stride=2),\n",
    "            nn.Tanh()\n",
    "        )\n",
    "\n",
    "\n",
    "        self.fc_encoder = nn.Linear(self.flat_size, latent_dim)\n",
    "        self.fc_decoder = nn.Linear(latent_dim, self.flat_size)\n",
    "\n",
    "    def forward(self, x):\n",
    "        x = self.encoder(x)\n",
    "        x = x.view(x.size(0), -1)\n",
    "        x = self.fc_encoder(x)\n",
    "        x = self.fc_decoder(x)\n",
    "        x = x.view(x.size(0), 64, 8, 8)\n",
    "        x = self.decoder(x)\n",
    "        return x"
   ]
  },
  {
   "cell_type": "code",
   "execution_count": 67,
   "id": "18425ebf",
   "metadata": {},
   "outputs": [],
   "source": [
    "BATCH_SIZE: int = 64\n",
    "LEARNING_RATE: float = 1e-3\n",
    "NUM_EPOCHS: int = 50\n",
    "NOISE_FACTOR: float = 0.1\n",
    "WEIGHT_DECAY: float = 5e-5"
   ]
  },
  {
   "cell_type": "code",
   "execution_count": 68,
   "id": "f3a3865a",
   "metadata": {},
   "outputs": [],
   "source": [
    "def add_gaussian_noise(images, noise_factor):\n",
    "    noisy_images = images + noise_factor * torch.randn_like(images)\n",
    "    noisy_images = torch.clamp(noisy_images, -1., 1.)\n",
    "    return noisy_images"
   ]
  },
  {
   "cell_type": "code",
   "execution_count": 69,
   "id": "6e55e294",
   "metadata": {},
   "outputs": [],
   "source": [
    "def train(model, data_root, transform, epochs, device):\n",
    "    dataset = WaldoImageDataset(root_dir=data_root, transform=transform)\n",
    "    dataloader = DataLoader(dataset, batch_size=BATCH_SIZE, shuffle=True)\n",
    "\n",
    "    criterion = nn.MSELoss()\n",
    "    optimizer = torch.optim.Adam(model.parameters(), lr=LEARNING_RATE, weight_decay=WEIGHT_DECAY)\n",
    "    model.to(device)\n",
    "\n",
    "    for epoch in range(epochs):\n",
    "        for images in dataloader:\n",
    "            if isinstance(images, (list, tuple)):\n",
    "                images = images[0]\n",
    "            clean_images = images.to(device)\n",
    "\n",
    "            noisy_images = add_gaussian_noise(clean_images.clone(), NOISE_FACTOR)\n",
    "            optimizer.zero_grad()\n",
    "            outputs = model(noisy_images)\n",
    "            loss = criterion(outputs, clean_images)\n",
    "            loss.backward()\n",
    "            optimizer.step()\n",
    "\n",
    "        print(f\"Epoch [{epoch + 1}/{epochs}], Loss: {loss.item():.4f}\")\n",
    "\n",
    "    print(\"Training complete.\")\n",
    "    return model"
   ]
  },
  {
   "cell_type": "code",
   "execution_count": 70,
   "id": "7a5cc9cb",
   "metadata": {},
   "outputs": [
    {
     "name": "stdout",
     "output_type": "stream",
     "text": [
      "Epoch [1/50], Loss: 0.7769\n",
      "Epoch [2/50], Loss: 0.7854\n",
      "Epoch [3/50], Loss: 0.8492\n",
      "Epoch [4/50], Loss: 0.8386\n",
      "Epoch [5/50], Loss: 0.8450\n",
      "Epoch [6/50], Loss: 0.8329\n",
      "Epoch [7/50], Loss: 0.8628\n",
      "Epoch [8/50], Loss: 0.8512\n",
      "Epoch [9/50], Loss: 0.7954\n",
      "Epoch [10/50], Loss: 0.8211\n",
      "Epoch [11/50], Loss: 0.7586\n",
      "Epoch [12/50], Loss: 0.8551\n",
      "Epoch [13/50], Loss: 0.8023\n",
      "Epoch [14/50], Loss: 0.8272\n",
      "Epoch [15/50], Loss: 0.7973\n",
      "Epoch [16/50], Loss: 0.8366\n",
      "Epoch [17/50], Loss: 0.8123\n",
      "Epoch [18/50], Loss: 0.8159\n",
      "Epoch [19/50], Loss: 0.8284\n",
      "Epoch [20/50], Loss: 0.8204\n",
      "Epoch [21/50], Loss: 0.7956\n",
      "Epoch [22/50], Loss: 0.8134\n",
      "Epoch [23/50], Loss: 0.8416\n",
      "Epoch [24/50], Loss: 0.8233\n",
      "Epoch [25/50], Loss: 0.8206\n",
      "Epoch [26/50], Loss: 0.8009\n",
      "Epoch [27/50], Loss: 0.7940\n",
      "Epoch [28/50], Loss: 0.8535\n",
      "Epoch [29/50], Loss: 0.8215\n",
      "Epoch [30/50], Loss: 0.8303\n",
      "Epoch [31/50], Loss: 0.8323\n",
      "Epoch [32/50], Loss: 0.8188\n",
      "Epoch [33/50], Loss: 0.8096\n",
      "Epoch [34/50], Loss: 0.8208\n",
      "Epoch [35/50], Loss: 0.8113\n",
      "Epoch [36/50], Loss: 0.8418\n",
      "Epoch [37/50], Loss: 0.8223\n",
      "Epoch [38/50], Loss: 0.8309\n",
      "Epoch [39/50], Loss: 0.7898\n",
      "Epoch [40/50], Loss: 0.8301\n",
      "Epoch [41/50], Loss: 0.8108\n",
      "Epoch [42/50], Loss: 0.8472\n",
      "Epoch [43/50], Loss: 0.8045\n",
      "Epoch [44/50], Loss: 0.8211\n",
      "Epoch [45/50], Loss: 0.8288\n",
      "Epoch [46/50], Loss: 0.7761\n",
      "Epoch [47/50], Loss: 0.8449\n",
      "Epoch [48/50], Loss: 0.7986\n",
      "Epoch [49/50], Loss: 0.8295\n",
      "Epoch [50/50], Loss: 0.8491\n",
      "Training complete.\n"
     ]
    }
   ],
   "source": [
    "trained_model = train(ConvAutoencoder(latent_dim=IMAGE_SIZE//4), TRAIN_DATA_PATH, TRAIN_TRANSFORM, NUM_EPOCHS, DEVICE)"
   ]
  },
  {
   "cell_type": "markdown",
   "id": "f188d4b5",
   "metadata": {},
   "source": [
    "## Test data preparations"
   ]
  },
  {
   "cell_type": "code",
   "execution_count": 71,
   "id": "0b077225",
   "metadata": {},
   "outputs": [],
   "source": [
    "TEST_TRANSFORM = transforms.Compose([\n",
    "    transforms.Resize((IMAGE_SIZE, IMAGE_SIZE)),\n",
    "    transforms.ToTensor(),\n",
    "    transforms.Normalize(mean=[0.5, 0.5, 0.5], std=[0.5, 0.5, 0.5]) if IMAGE_TYPE['no_channels'] == 3 else transforms.Normalize(mean=[0.5], std=[0.5])\n",
    "])"
   ]
  },
  {
   "cell_type": "code",
   "execution_count": 72,
   "id": "06cca26c",
   "metadata": {},
   "outputs": [],
   "source": [
    "def get_test_dataloaders(normal_path, anomaly_path, transform, batch_size):\n",
    "    normal_dataset = WaldoImageDataset(root_dir=normal_path, transform=transform)\n",
    "    normal_loader = DataLoader(normal_dataset, batch_size=batch_size, shuffle=False)\n",
    "    \n",
    "    anomaly_dataset = WaldoImageDataset(root_dir=anomaly_path, transform=transform)\n",
    "    anomaly_loader = DataLoader(anomaly_dataset, batch_size=batch_size, shuffle=False)\n",
    "    \n",
    "    return normal_loader, anomaly_loader"
   ]
  },
  {
   "cell_type": "code",
   "execution_count": 73,
   "id": "0232c77e",
   "metadata": {},
   "outputs": [],
   "source": [
    "def calculate_reconstruction_errors(model, dataloader, device):\n",
    "    model.eval()\n",
    "    all_errors = []\n",
    "    \n",
    "    with torch.no_grad():\n",
    "        for images, _ in dataloader:\n",
    "            images = images.to(device)\n",
    "            \n",
    "            reconstructed = model(images)\n",
    "            mse_loss = F.mse_loss(reconstructed, images, reduction='none')\n",
    "            reconstruction_error = mse_loss.sum(dim=[1, 2, 3]) \n",
    "            \n",
    "            all_errors.extend(reconstruction_error.cpu().numpy())\n",
    "            \n",
    "    return np.array(all_errors)"
   ]
  },
  {
   "cell_type": "code",
   "execution_count": null,
   "id": "1ac606be",
   "metadata": {},
   "outputs": [
    {
     "name": "stdout",
     "output_type": "stream",
     "text": [
      "Normal Errors Stats: Mean=3326.6567, Std=551.9964, Max=3857.9531\n",
      "Anomaly Errors Stats: Mean=3338.3906, Std=559.5876, Min=724.2881\n"
     ]
    },
    {
     "data": {
      "image/png": "[encoded data removed]",
      "text/plain": [
       "<Figure size 1000x600 with 1 Axes>"
      ]
     },
     "metadata": {},
     "output_type": "display_data"
    },
    {
     "name": "stdout",
     "output_type": "stream",
     "text": [
      "\n",
      "--- Model Performance (Using Logistic Regression Threshold) ---\n",
      "AUC-ROC Score: 0.5106 (Closer to 1.0 is better)\n",
      "F1 Score: 0.0130\n",
      "\n",
      "Confusion Matrix:\n",
      "[[1698 3640]\n",
      " [  14   24]]\n",
      "True Positives (Correct Waldo patches): 24\n",
      "False Positives (NotWaldo flagged as Waldo): 3640\n",
      "False Negatives (Waldo missed): 14\n",
      "True Negatives (Correct NotWaldo patches): 1698\n"
     ]
    }
   ],
   "source": [
    "from scipy.stats import scoreatpercentile\n",
    "from sklearn.metrics import roc_auc_score, f1_score, confusion_matrix\n",
    "import matplotlib.pyplot as plt\n",
    "from sklearn.linear_model import LogisticRegression\n",
    "from sklearn.model_selection import train_test_split\n",
    "from sklearn.preprocessing import StandardScaler\n",
    "\n",
    "def evaluate_model(model, normal_loader, anomaly_loader, device):\n",
    "    # Calculate errors for both classes\n",
    "    normal_errors = calculate_reconstruction_errors(model, normal_loader, device)\n",
    "    print(f\"Normal Errors Stats: Mean={np.mean(normal_errors):.4f}, Std={np.std(normal_errors):.4f}, Max={np.max(normal_errors):.4f}\")\n",
    "    THRESHOLD = scoreatpercentile(normal_errors, 99.5)\n",
    "    anomaly_errors = calculate_reconstruction_errors(model, anomaly_loader, device)\n",
    "    print(f\"Anomaly Errors Stats: Mean={np.mean(anomaly_errors):.4f}, Std={np.std(anomaly_errors):.4f}, Min={np.min(anomaly_errors):.4f}\")\n",
    "    \n",
    "    # Concatenate all errors and create true labels\n",
    "    all_errors = np.concatenate([normal_errors, anomaly_errors])\n",
    "    # True labels: 0 for normal, 1 for anomaly\n",
    "    true_labels = np.concatenate([np.zeros(len(normal_errors)), np.ones(len(anomaly_errors))])\n",
    "    \n",
    "    X = all_errors.reshape(-1, 1)\n",
    "    y = true_labels\n",
    "\n",
    "    # Scale the errors (recommended for Logistic Regression)\n",
    "    scaler = StandardScaler()\n",
    "    X_scaled = scaler.fit_transform(X)\n",
    "\n",
    "    # Train the model (using the full test set as the final evaluation is based on it)\n",
    "    log_reg = LogisticRegression(class_weight='balanced', solver='liblinear')\n",
    "    log_reg.fit(X_scaled, y)\n",
    "    \n",
    "    # Predict using the Logistic Regression model\n",
    "    predicted_labels = log_reg.predict(X_scaled)\n",
    "\n",
    "    # --- 3. PLOT ERROR DISTRIBUTIONS ---\n",
    "    plt.figure(figsize=(10, 6))\n",
    "    plt.hist(normal_errors, bins=50, alpha=0.6, label='Normal (NotWaldo) Errors', density=True)\n",
    "    plt.hist(anomaly_errors, bins=50, alpha=0.6, label='Anomaly (Waldo) Errors', density=True)\n",
    "    plt.axvline(x=THRESHOLD, color='r', linestyle='--', label=f'Stat. Threshold ({THRESHOLD:.2f})')\n",
    "    plt.title('Reconstruction Error Distribution')\n",
    "    plt.xlabel('Total Reconstruction Error')\n",
    "    plt.ylabel('Density')\n",
    "    plt.legend()\n",
    "    plt.show()\n",
    "\n",
    "    # --- 4. METRICS ---\n",
    "    \n",
    "    # 1. AUC-ROC Score\n",
    "    auc_roc = roc_auc_score(true_labels, all_errors)\n",
    "    \n",
    "    # 2. Confusion Matrix using Logistic Regression predictions\n",
    "    cm = confusion_matrix(true_labels, predicted_labels)\n",
    "    tn, fp, fn, tp = cm.ravel()\n",
    "    \n",
    "    # 3. F1 Score\n",
    "    f1 = f1_score(true_labels, predicted_labels)\n",
    "    \n",
    "    print(\"\\n--- Model Performance (Using Logistic Regression Threshold) ---\")\n",
    "    print(f\"AUC-ROC Score: {auc_roc:.4f} (Closer to 1.0 is better)\")\n",
    "    print(f\"F1 Score: {f1:.4f}\")\n",
    "    print(f\"\\nConfusion Matrix:\\n{cm}\")\n",
    "    print(f\"True Positives (Correct Waldo patches): {tp}\")\n",
    "    print(f\"False Positives (NotWaldo flagged as Waldo): {fp}\")\n",
    "    print(f\"False Negatives (Waldo missed): {fn}\")\n",
    "    print(f\"True Negatives (Correct NotWaldo patches): {tn}\")\n",
    "\n",
    "normal_test_loader, anomaly_test_loader = get_test_dataloaders(\n",
    "    TRAIN_DATA_PATH, \n",
    "    TEST_DATA_PATH, \n",
    "    TEST_TRANSFORM, \n",
    "    BATCH_SIZE\n",
    ")\n",
    "\n",
    "\n",
    "evaluate_model(trained_model, normal_test_loader, anomaly_test_loader, DEVICE)"
   ]
  }
 ],
 "metadata": {
  "kernelspec": {
   "display_name": "venv",
   "language": "python",
   "name": "python3"
  },
  "language_info": {
   "codemirror_mode": {
    "name": "ipython",
    "version": 3
   },
   "file_extension": ".py",
   "mimetype": "text/x-python",
   "name": "python",
   "nbconvert_exporter": "python",
   "pygments_lexer": "ipython3",
   "version": "3.13.7"
  }
 },
 "nbformat": 4,
 "nbformat_minor": 5
}
